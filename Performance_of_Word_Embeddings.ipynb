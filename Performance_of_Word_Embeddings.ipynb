{
  "nbformat": 4,
  "nbformat_minor": 0,
  "metadata": {
    "colab": {
      "provenance": []
    },
    "kernelspec": {
      "name": "python3",
      "display_name": "Python 3"
    },
    "language_info": {
      "name": "python"
    }
  },
  "cells": [
    {
      "cell_type": "markdown",
      "source": [
        "# Installation"
      ],
      "metadata": {
        "id": "1eyTLQgRuLXX"
      }
    },
    {
      "cell_type": "code",
      "source": [
        "!pip uninstall -y numpy scipy gensim\n",
        "!pip install --upgrade numpy==1.23.5 scipy==1.10.1 gensim==4.3.2"
      ],
      "metadata": {
        "id": "z1K9T1UinoVJ"
      },
      "execution_count": null,
      "outputs": []
    },
    {
      "cell_type": "code",
      "source": [
        "import numpy\n",
        "import scipy\n",
        "import gensim\n",
        "\n",
        "print(\"NumPy Version:\", numpy.__version__)\n",
        "print(\"SciPy Version:\", scipy.__version__)\n",
        "print(\"Gensim Version:\", gensim.__version__)"
      ],
      "metadata": {
        "colab": {
          "base_uri": "https://localhost:8080/"
        },
        "id": "dUDbPj8elUB9",
        "outputId": "aa372c31-bcbc-4a99-bc56-b2a423b8642b"
      },
      "execution_count": 1,
      "outputs": [
        {
          "output_type": "stream",
          "name": "stdout",
          "text": [
            "NumPy Version: 1.23.5\n",
            "SciPy Version: 1.10.1\n",
            "Gensim Version: 4.3.2\n"
          ]
        }
      ]
    },
    {
      "cell_type": "markdown",
      "source": [
        "# Import Required Libraries\n",
        "\n",
        "Import all necessary libraries for text processing, embeddings, clustering, and visualization. Also, download required NLTK datasets (stopwords, word tokenizer, and wordnet for lemmatization)."
      ],
      "metadata": {
        "id": "hfPFOcrsuPHP"
      }
    },
    {
      "cell_type": "code",
      "source": [
        "import numpy as np\n",
        "import pandas as pd\n",
        "import re\n",
        "import string\n",
        "import nltk\n",
        "import matplotlib.pyplot as plt\n",
        "import gensim\n",
        "from gensim.models import Word2Vec, FastText\n",
        "from gensim.utils import simple_preprocess\n",
        "from sklearn.decomposition import PCA\n",
        "from sklearn.manifold import TSNE\n",
        "from nltk.tokenize import word_tokenize\n",
        "from nltk.corpus import stopwords\n",
        "from nltk.stem import WordNetLemmatizer\n",
        "import seaborn as sns\n",
        "\n",
        "nltk.download('punkt')\n",
        "nltk.download('stopwords')\n",
        "nltk.download('wordnet')\n",
        "\n",
        "print(\"Libraries imported successfully!\")\n"
      ],
      "metadata": {
        "colab": {
          "base_uri": "https://localhost:8080/"
        },
        "id": "i6L5e5EznUjB",
        "outputId": "d55f8a40-f81f-40de-cbd8-03245dd7a7d6"
      },
      "execution_count": 2,
      "outputs": [
        {
          "output_type": "stream",
          "name": "stdout",
          "text": [
            "Libraries imported successfully!\n"
          ]
        },
        {
          "output_type": "stream",
          "name": "stderr",
          "text": [
            "[nltk_data] Downloading package punkt to /root/nltk_data...\n",
            "[nltk_data]   Package punkt is already up-to-date!\n",
            "[nltk_data] Downloading package stopwords to /root/nltk_data...\n",
            "[nltk_data]   Package stopwords is already up-to-date!\n",
            "[nltk_data] Downloading package wordnet to /root/nltk_data...\n",
            "[nltk_data]   Package wordnet is already up-to-date!\n"
          ]
        }
      ]
    },
    {
      "cell_type": "code",
      "source": [
        "import nltk\n",
        "nltk.download('all')"
      ],
      "metadata": {
        "colab": {
          "base_uri": "https://localhost:8080/"
        },
        "id": "mNGV6rpgpjgG",
        "outputId": "cfd04881-ffaa-40b9-ca9c-2952222299fc"
      },
      "execution_count": 4,
      "outputs": [
        {
          "output_type": "stream",
          "name": "stderr",
          "text": [
            "[nltk_data] Downloading collection 'all'\n",
            "[nltk_data]    | \n",
            "[nltk_data]    | Downloading package abc to /root/nltk_data...\n",
            "[nltk_data]    |   Unzipping corpora/abc.zip.\n",
            "[nltk_data]    | Downloading package alpino to /root/nltk_data...\n",
            "[nltk_data]    |   Unzipping corpora/alpino.zip.\n",
            "[nltk_data]    | Downloading package averaged_perceptron_tagger to\n",
            "[nltk_data]    |     /root/nltk_data...\n",
            "[nltk_data]    |   Unzipping taggers/averaged_perceptron_tagger.zip.\n",
            "[nltk_data]    | Downloading package averaged_perceptron_tagger_eng to\n",
            "[nltk_data]    |     /root/nltk_data...\n",
            "[nltk_data]    |   Unzipping\n",
            "[nltk_data]    |       taggers/averaged_perceptron_tagger_eng.zip.\n",
            "[nltk_data]    | Downloading package averaged_perceptron_tagger_ru to\n",
            "[nltk_data]    |     /root/nltk_data...\n",
            "[nltk_data]    |   Unzipping\n",
            "[nltk_data]    |       taggers/averaged_perceptron_tagger_ru.zip.\n",
            "[nltk_data]    | Downloading package averaged_perceptron_tagger_rus to\n",
            "[nltk_data]    |     /root/nltk_data...\n",
            "[nltk_data]    |   Unzipping\n",
            "[nltk_data]    |       taggers/averaged_perceptron_tagger_rus.zip.\n",
            "[nltk_data]    | Downloading package basque_grammars to\n",
            "[nltk_data]    |     /root/nltk_data...\n",
            "[nltk_data]    |   Unzipping grammars/basque_grammars.zip.\n",
            "[nltk_data]    | Downloading package bcp47 to /root/nltk_data...\n",
            "[nltk_data]    | Downloading package biocreative_ppi to\n",
            "[nltk_data]    |     /root/nltk_data...\n",
            "[nltk_data]    |   Unzipping corpora/biocreative_ppi.zip.\n",
            "[nltk_data]    | Downloading package bllip_wsj_no_aux to\n",
            "[nltk_data]    |     /root/nltk_data...\n",
            "[nltk_data]    |   Unzipping models/bllip_wsj_no_aux.zip.\n",
            "[nltk_data]    | Downloading package book_grammars to\n",
            "[nltk_data]    |     /root/nltk_data...\n",
            "[nltk_data]    |   Unzipping grammars/book_grammars.zip.\n",
            "[nltk_data]    | Downloading package brown to /root/nltk_data...\n",
            "[nltk_data]    |   Unzipping corpora/brown.zip.\n",
            "[nltk_data]    | Downloading package brown_tei to /root/nltk_data...\n",
            "[nltk_data]    |   Unzipping corpora/brown_tei.zip.\n",
            "[nltk_data]    | Downloading package cess_cat to /root/nltk_data...\n",
            "[nltk_data]    |   Unzipping corpora/cess_cat.zip.\n",
            "[nltk_data]    | Downloading package cess_esp to /root/nltk_data...\n",
            "[nltk_data]    |   Unzipping corpora/cess_esp.zip.\n",
            "[nltk_data]    | Downloading package chat80 to /root/nltk_data...\n",
            "[nltk_data]    |   Unzipping corpora/chat80.zip.\n",
            "[nltk_data]    | Downloading package city_database to\n",
            "[nltk_data]    |     /root/nltk_data...\n",
            "[nltk_data]    |   Unzipping corpora/city_database.zip.\n",
            "[nltk_data]    | Downloading package cmudict to /root/nltk_data...\n",
            "[nltk_data]    |   Unzipping corpora/cmudict.zip.\n",
            "[nltk_data]    | Downloading package comparative_sentences to\n",
            "[nltk_data]    |     /root/nltk_data...\n",
            "[nltk_data]    |   Unzipping corpora/comparative_sentences.zip.\n",
            "[nltk_data]    | Downloading package comtrans to /root/nltk_data...\n",
            "[nltk_data]    | Downloading package conll2000 to /root/nltk_data...\n",
            "[nltk_data]    |   Unzipping corpora/conll2000.zip.\n",
            "[nltk_data]    | Downloading package conll2002 to /root/nltk_data...\n",
            "[nltk_data]    |   Unzipping corpora/conll2002.zip.\n",
            "[nltk_data]    | Downloading package conll2007 to /root/nltk_data...\n",
            "[nltk_data]    | Downloading package crubadan to /root/nltk_data...\n",
            "[nltk_data]    |   Unzipping corpora/crubadan.zip.\n",
            "[nltk_data]    | Downloading package dependency_treebank to\n",
            "[nltk_data]    |     /root/nltk_data...\n",
            "[nltk_data]    |   Unzipping corpora/dependency_treebank.zip.\n",
            "[nltk_data]    | Downloading package dolch to /root/nltk_data...\n",
            "[nltk_data]    |   Unzipping corpora/dolch.zip.\n",
            "[nltk_data]    | Downloading package english_wordnet to\n",
            "[nltk_data]    |     /root/nltk_data...\n",
            "[nltk_data]    |   Unzipping corpora/english_wordnet.zip.\n",
            "[nltk_data]    | Downloading package europarl_raw to\n",
            "[nltk_data]    |     /root/nltk_data...\n",
            "[nltk_data]    |   Unzipping corpora/europarl_raw.zip.\n",
            "[nltk_data]    | Downloading package extended_omw to\n",
            "[nltk_data]    |     /root/nltk_data...\n",
            "[nltk_data]    | Downloading package floresta to /root/nltk_data...\n",
            "[nltk_data]    |   Unzipping corpora/floresta.zip.\n",
            "[nltk_data]    | Downloading package framenet_v15 to\n",
            "[nltk_data]    |     /root/nltk_data...\n",
            "[nltk_data]    |   Unzipping corpora/framenet_v15.zip.\n",
            "[nltk_data]    | Downloading package framenet_v17 to\n",
            "[nltk_data]    |     /root/nltk_data...\n",
            "[nltk_data]    |   Unzipping corpora/framenet_v17.zip.\n",
            "[nltk_data]    | Downloading package gazetteers to /root/nltk_data...\n",
            "[nltk_data]    |   Unzipping corpora/gazetteers.zip.\n",
            "[nltk_data]    | Downloading package genesis to /root/nltk_data...\n",
            "[nltk_data]    |   Unzipping corpora/genesis.zip.\n",
            "[nltk_data]    | Downloading package gutenberg to /root/nltk_data...\n",
            "[nltk_data]    |   Unzipping corpora/gutenberg.zip.\n",
            "[nltk_data]    | Downloading package ieer to /root/nltk_data...\n",
            "[nltk_data]    |   Unzipping corpora/ieer.zip.\n",
            "[nltk_data]    | Downloading package inaugural to /root/nltk_data...\n",
            "[nltk_data]    |   Unzipping corpora/inaugural.zip.\n",
            "[nltk_data]    | Downloading package indian to /root/nltk_data...\n",
            "[nltk_data]    |   Unzipping corpora/indian.zip.\n",
            "[nltk_data]    | Downloading package jeita to /root/nltk_data...\n",
            "[nltk_data]    | Downloading package kimmo to /root/nltk_data...\n",
            "[nltk_data]    |   Unzipping corpora/kimmo.zip.\n",
            "[nltk_data]    | Downloading package knbc to /root/nltk_data...\n",
            "[nltk_data]    | Downloading package large_grammars to\n",
            "[nltk_data]    |     /root/nltk_data...\n",
            "[nltk_data]    |   Unzipping grammars/large_grammars.zip.\n",
            "[nltk_data]    | Downloading package lin_thesaurus to\n",
            "[nltk_data]    |     /root/nltk_data...\n",
            "[nltk_data]    |   Unzipping corpora/lin_thesaurus.zip.\n",
            "[nltk_data]    | Downloading package mac_morpho to /root/nltk_data...\n",
            "[nltk_data]    |   Unzipping corpora/mac_morpho.zip.\n",
            "[nltk_data]    | Downloading package machado to /root/nltk_data...\n",
            "[nltk_data]    | Downloading package masc_tagged to /root/nltk_data...\n",
            "[nltk_data]    | Downloading package maxent_ne_chunker to\n",
            "[nltk_data]    |     /root/nltk_data...\n",
            "[nltk_data]    |   Unzipping chunkers/maxent_ne_chunker.zip.\n",
            "[nltk_data]    | Downloading package maxent_ne_chunker_tab to\n",
            "[nltk_data]    |     /root/nltk_data...\n",
            "[nltk_data]    |   Unzipping chunkers/maxent_ne_chunker_tab.zip.\n",
            "[nltk_data]    | Downloading package maxent_treebank_pos_tagger to\n",
            "[nltk_data]    |     /root/nltk_data...\n",
            "[nltk_data]    |   Unzipping taggers/maxent_treebank_pos_tagger.zip.\n",
            "[nltk_data]    | Downloading package maxent_treebank_pos_tagger_tab to\n",
            "[nltk_data]    |     /root/nltk_data...\n",
            "[nltk_data]    |   Unzipping\n",
            "[nltk_data]    |       taggers/maxent_treebank_pos_tagger_tab.zip.\n",
            "[nltk_data]    | Downloading package moses_sample to\n",
            "[nltk_data]    |     /root/nltk_data...\n",
            "[nltk_data]    |   Unzipping models/moses_sample.zip.\n",
            "[nltk_data]    | Downloading package movie_reviews to\n",
            "[nltk_data]    |     /root/nltk_data...\n",
            "[nltk_data]    |   Unzipping corpora/movie_reviews.zip.\n",
            "[nltk_data]    | Downloading package mte_teip5 to /root/nltk_data...\n",
            "[nltk_data]    |   Unzipping corpora/mte_teip5.zip.\n",
            "[nltk_data]    | Downloading package mwa_ppdb to /root/nltk_data...\n",
            "[nltk_data]    |   Unzipping misc/mwa_ppdb.zip.\n",
            "[nltk_data]    | Downloading package names to /root/nltk_data...\n",
            "[nltk_data]    |   Unzipping corpora/names.zip.\n",
            "[nltk_data]    | Downloading package nombank.1.0 to /root/nltk_data...\n",
            "[nltk_data]    | Downloading package nonbreaking_prefixes to\n",
            "[nltk_data]    |     /root/nltk_data...\n",
            "[nltk_data]    |   Unzipping corpora/nonbreaking_prefixes.zip.\n",
            "[nltk_data]    | Downloading package nps_chat to /root/nltk_data...\n",
            "[nltk_data]    |   Unzipping corpora/nps_chat.zip.\n",
            "[nltk_data]    | Downloading package omw to /root/nltk_data...\n",
            "[nltk_data]    | Downloading package omw-1.4 to /root/nltk_data...\n",
            "[nltk_data]    | Downloading package opinion_lexicon to\n",
            "[nltk_data]    |     /root/nltk_data...\n",
            "[nltk_data]    |   Unzipping corpora/opinion_lexicon.zip.\n",
            "[nltk_data]    | Downloading package panlex_swadesh to\n",
            "[nltk_data]    |     /root/nltk_data...\n",
            "[nltk_data]    | Downloading package paradigms to /root/nltk_data...\n",
            "[nltk_data]    |   Unzipping corpora/paradigms.zip.\n",
            "[nltk_data]    | Downloading package pe08 to /root/nltk_data...\n",
            "[nltk_data]    |   Unzipping corpora/pe08.zip.\n",
            "[nltk_data]    | Downloading package perluniprops to\n",
            "[nltk_data]    |     /root/nltk_data...\n",
            "[nltk_data]    |   Unzipping misc/perluniprops.zip.\n",
            "[nltk_data]    | Downloading package pil to /root/nltk_data...\n",
            "[nltk_data]    |   Unzipping corpora/pil.zip.\n",
            "[nltk_data]    | Downloading package pl196x to /root/nltk_data...\n",
            "[nltk_data]    |   Unzipping corpora/pl196x.zip.\n",
            "[nltk_data]    | Downloading package porter_test to /root/nltk_data...\n",
            "[nltk_data]    |   Unzipping stemmers/porter_test.zip.\n",
            "[nltk_data]    | Downloading package ppattach to /root/nltk_data...\n",
            "[nltk_data]    |   Unzipping corpora/ppattach.zip.\n",
            "[nltk_data]    | Downloading package problem_reports to\n",
            "[nltk_data]    |     /root/nltk_data...\n",
            "[nltk_data]    |   Unzipping corpora/problem_reports.zip.\n",
            "[nltk_data]    | Downloading package product_reviews_1 to\n",
            "[nltk_data]    |     /root/nltk_data...\n",
            "[nltk_data]    |   Unzipping corpora/product_reviews_1.zip.\n",
            "[nltk_data]    | Downloading package product_reviews_2 to\n",
            "[nltk_data]    |     /root/nltk_data...\n",
            "[nltk_data]    |   Unzipping corpora/product_reviews_2.zip.\n",
            "[nltk_data]    | Downloading package propbank to /root/nltk_data...\n",
            "[nltk_data]    | Downloading package pros_cons to /root/nltk_data...\n",
            "[nltk_data]    |   Unzipping corpora/pros_cons.zip.\n",
            "[nltk_data]    | Downloading package ptb to /root/nltk_data...\n",
            "[nltk_data]    |   Unzipping corpora/ptb.zip.\n",
            "[nltk_data]    | Downloading package punkt to /root/nltk_data...\n",
            "[nltk_data]    |   Package punkt is already up-to-date!\n",
            "[nltk_data]    | Downloading package punkt_tab to /root/nltk_data...\n",
            "[nltk_data]    |   Unzipping tokenizers/punkt_tab.zip.\n",
            "[nltk_data]    | Downloading package qc to /root/nltk_data...\n",
            "[nltk_data]    |   Unzipping corpora/qc.zip.\n",
            "[nltk_data]    | Downloading package reuters to /root/nltk_data...\n",
            "[nltk_data]    | Downloading package rslp to /root/nltk_data...\n",
            "[nltk_data]    |   Unzipping stemmers/rslp.zip.\n",
            "[nltk_data]    | Downloading package rte to /root/nltk_data...\n",
            "[nltk_data]    |   Unzipping corpora/rte.zip.\n",
            "[nltk_data]    | Downloading package sample_grammars to\n",
            "[nltk_data]    |     /root/nltk_data...\n",
            "[nltk_data]    |   Unzipping grammars/sample_grammars.zip.\n",
            "[nltk_data]    | Downloading package semcor to /root/nltk_data...\n",
            "[nltk_data]    | Downloading package senseval to /root/nltk_data...\n",
            "[nltk_data]    |   Unzipping corpora/senseval.zip.\n",
            "[nltk_data]    | Downloading package sentence_polarity to\n",
            "[nltk_data]    |     /root/nltk_data...\n",
            "[nltk_data]    |   Unzipping corpora/sentence_polarity.zip.\n",
            "[nltk_data]    | Downloading package sentiwordnet to\n",
            "[nltk_data]    |     /root/nltk_data...\n",
            "[nltk_data]    |   Unzipping corpora/sentiwordnet.zip.\n",
            "[nltk_data]    | Downloading package shakespeare to /root/nltk_data...\n",
            "[nltk_data]    |   Unzipping corpora/shakespeare.zip.\n",
            "[nltk_data]    | Downloading package sinica_treebank to\n",
            "[nltk_data]    |     /root/nltk_data...\n",
            "[nltk_data]    |   Unzipping corpora/sinica_treebank.zip.\n",
            "[nltk_data]    | Downloading package smultron to /root/nltk_data...\n",
            "[nltk_data]    |   Unzipping corpora/smultron.zip.\n",
            "[nltk_data]    | Downloading package snowball_data to\n",
            "[nltk_data]    |     /root/nltk_data...\n",
            "[nltk_data]    | Downloading package spanish_grammars to\n",
            "[nltk_data]    |     /root/nltk_data...\n",
            "[nltk_data]    |   Unzipping grammars/spanish_grammars.zip.\n",
            "[nltk_data]    | Downloading package state_union to /root/nltk_data...\n",
            "[nltk_data]    |   Unzipping corpora/state_union.zip.\n",
            "[nltk_data]    | Downloading package stopwords to /root/nltk_data...\n",
            "[nltk_data]    |   Package stopwords is already up-to-date!\n",
            "[nltk_data]    | Downloading package subjectivity to\n",
            "[nltk_data]    |     /root/nltk_data...\n",
            "[nltk_data]    |   Unzipping corpora/subjectivity.zip.\n",
            "[nltk_data]    | Downloading package swadesh to /root/nltk_data...\n",
            "[nltk_data]    |   Unzipping corpora/swadesh.zip.\n",
            "[nltk_data]    | Downloading package switchboard to /root/nltk_data...\n",
            "[nltk_data]    |   Unzipping corpora/switchboard.zip.\n",
            "[nltk_data]    | Downloading package tagsets to /root/nltk_data...\n",
            "[nltk_data]    |   Unzipping help/tagsets.zip.\n",
            "[nltk_data]    | Downloading package tagsets_json to\n",
            "[nltk_data]    |     /root/nltk_data...\n",
            "[nltk_data]    |   Unzipping help/tagsets_json.zip.\n",
            "[nltk_data]    | Downloading package timit to /root/nltk_data...\n",
            "[nltk_data]    |   Unzipping corpora/timit.zip.\n",
            "[nltk_data]    | Downloading package toolbox to /root/nltk_data...\n",
            "[nltk_data]    |   Unzipping corpora/toolbox.zip.\n",
            "[nltk_data]    | Downloading package treebank to /root/nltk_data...\n",
            "[nltk_data]    |   Unzipping corpora/treebank.zip.\n",
            "[nltk_data]    | Downloading package twitter_samples to\n",
            "[nltk_data]    |     /root/nltk_data...\n",
            "[nltk_data]    |   Unzipping corpora/twitter_samples.zip.\n",
            "[nltk_data]    | Downloading package udhr to /root/nltk_data...\n",
            "[nltk_data]    |   Unzipping corpora/udhr.zip.\n",
            "[nltk_data]    | Downloading package udhr2 to /root/nltk_data...\n",
            "[nltk_data]    |   Unzipping corpora/udhr2.zip.\n",
            "[nltk_data]    | Downloading package unicode_samples to\n",
            "[nltk_data]    |     /root/nltk_data...\n",
            "[nltk_data]    |   Unzipping corpora/unicode_samples.zip.\n",
            "[nltk_data]    | Downloading package universal_tagset to\n",
            "[nltk_data]    |     /root/nltk_data...\n",
            "[nltk_data]    |   Unzipping taggers/universal_tagset.zip.\n",
            "[nltk_data]    | Downloading package universal_treebanks_v20 to\n",
            "[nltk_data]    |     /root/nltk_data...\n",
            "[nltk_data]    | Downloading package vader_lexicon to\n",
            "[nltk_data]    |     /root/nltk_data...\n",
            "[nltk_data]    | Downloading package verbnet to /root/nltk_data...\n",
            "[nltk_data]    |   Unzipping corpora/verbnet.zip.\n",
            "[nltk_data]    | Downloading package verbnet3 to /root/nltk_data...\n",
            "[nltk_data]    |   Unzipping corpora/verbnet3.zip.\n",
            "[nltk_data]    | Downloading package webtext to /root/nltk_data...\n",
            "[nltk_data]    |   Unzipping corpora/webtext.zip.\n",
            "[nltk_data]    | Downloading package wmt15_eval to /root/nltk_data...\n",
            "[nltk_data]    |   Unzipping models/wmt15_eval.zip.\n",
            "[nltk_data]    | Downloading package word2vec_sample to\n",
            "[nltk_data]    |     /root/nltk_data...\n",
            "[nltk_data]    |   Unzipping models/word2vec_sample.zip.\n",
            "[nltk_data]    | Downloading package wordnet to /root/nltk_data...\n",
            "[nltk_data]    |   Package wordnet is already up-to-date!\n",
            "[nltk_data]    | Downloading package wordnet2021 to /root/nltk_data...\n",
            "[nltk_data]    | Downloading package wordnet2022 to /root/nltk_data...\n",
            "[nltk_data]    |   Unzipping corpora/wordnet2022.zip.\n",
            "[nltk_data]    | Downloading package wordnet31 to /root/nltk_data...\n",
            "[nltk_data]    | Downloading package wordnet_ic to /root/nltk_data...\n",
            "[nltk_data]    |   Unzipping corpora/wordnet_ic.zip.\n",
            "[nltk_data]    | Downloading package words to /root/nltk_data...\n",
            "[nltk_data]    |   Unzipping corpora/words.zip.\n",
            "[nltk_data]    | Downloading package ycoe to /root/nltk_data...\n",
            "[nltk_data]    |   Unzipping corpora/ycoe.zip.\n",
            "[nltk_data]    | \n",
            "[nltk_data]  Done downloading collection all\n"
          ]
        },
        {
          "output_type": "execute_result",
          "data": {
            "text/plain": [
              "True"
            ]
          },
          "metadata": {},
          "execution_count": 4
        }
      ]
    },
    {
      "cell_type": "markdown",
      "source": [
        "# Load & Preprocess the Data\n",
        "\n",
        " Load sample literary texts from three genres (Epic, Fantasy, Detective Fiction). Perform tokenization, lowercasing, punctuation removal, stopword filtering, and lemmatization to prepare the text for training."
      ],
      "metadata": {
        "id": "aKsdl0hNuU7c"
      }
    },
    {
      "cell_type": "code",
      "source": [
        "# Expanded Sample Text Data (Excerpts from Three Fictional Genres)\n",
        "mahabharata_text = \"\"\"Arjuna was in deep thought, standing on the battlefield, unsure of his duty.\n",
        "Krishna, his charioteer, spoke of dharma, karma, and the path to righteousness.\n",
        "The battlefield of Kurukshetra was filled with warriors, each carrying their weapons,\n",
        "awaiting the call for battle. Krishna counseled Arjuna, reminding him that duty and righteousness\n",
        "must prevail over personal hesitation. The echoes of the conch shells signaled the beginning of war.\"\"\"\n",
        "\n",
        "harry_potter_text = \"\"\"Harry looked around Hogwarts, the enchanted castle where magic thrived.\n",
        "Hermione studied her spellbook, while Ron struggled with his Quidditch broom.\n",
        "The grand hall was illuminated with floating candles, and the Sorting Hat was ready to\n",
        "assign first-year students to their houses. Dumbledore observed from the high table, smiling\n",
        "at the young wizards. Meanwhile, in the dark corridors, whispers of Voldemort's return began to spread.\n",
        "The Chamber of Secrets had been opened once again.\"\"\"\n",
        "\n",
        "sherlock_holmes_text = \"\"\"Holmes examined the footprint carefully, deducing its origin.\n",
        "Watson, though skeptical, admired his detective friend’s keen sense of observation.\n",
        "A letter had arrived at 221B Baker Street, detailing a mysterious case of a missing heirloom.\n",
        "The detective lit his pipe, contemplating the details of the riddle presented before him.\n",
        "Lestrade, the Scotland Yard officer, knocked on the door with urgency, requesting Holmes’s expertise\n",
        "in solving a crime that had baffled the police force. The game was afoot once again.\"\"\"\n",
        "\n",
        "# Combine all texts into a dataset\n",
        "documents = [mahabharata_text, harry_potter_text, sherlock_holmes_text]\n",
        "\n",
        "# Preprocessing Function\n",
        "def preprocess_text(text):\n",
        "    text = text.lower()  # Convert to lowercase\n",
        "    text = re.sub(r'\\d+', '', text)  # Remove numbers\n",
        "    text = text.translate(str.maketrans('', '', string.punctuation))  # Remove punctuation\n",
        "    tokens = word_tokenize(text)  # Tokenization\n",
        "\n",
        "    stop_words = set(stopwords.words('english'))\n",
        "    tokens = [word for word in tokens if word not in stop_words]  # Selective stopword removal\n",
        "\n",
        "    lemmatizer = WordNetLemmatizer()\n",
        "    tokens = [lemmatizer.lemmatize(word) for word in tokens]  # Lemmatization\n",
        "\n",
        "    return tokens\n",
        "\n",
        "# Apply preprocessing to all texts\n",
        "preprocessed_docs = [preprocess_text(doc) for doc in documents]\n",
        "\n",
        "# Print Results\n",
        "for i, doc in enumerate(preprocessed_docs):\n",
        "    print(f\"\\nPreprocessed Text {i+1}: {doc}\")\n"
      ],
      "metadata": {
        "colab": {
          "base_uri": "https://localhost:8080/"
        },
        "id": "lK_gxGIcn406",
        "outputId": "412100ab-1307-4b7a-d813-24cc019b698f"
      },
      "execution_count": 5,
      "outputs": [
        {
          "output_type": "stream",
          "name": "stdout",
          "text": [
            "\n",
            "Preprocessed Text 1: ['arjuna', 'deep', 'thought', 'standing', 'battlefield', 'unsure', 'duty', 'krishna', 'charioteer', 'spoke', 'dharma', 'karma', 'path', 'righteousness', 'battlefield', 'kurukshetra', 'filled', 'warrior', 'carrying', 'weapon', 'awaiting', 'call', 'battle', 'krishna', 'counseled', 'arjuna', 'reminding', 'duty', 'righteousness', 'must', 'prevail', 'personal', 'hesitation', 'echo', 'conch', 'shell', 'signaled', 'beginning', 'war']\n",
            "\n",
            "Preprocessed Text 2: ['harry', 'looked', 'around', 'hogwarts', 'enchanted', 'castle', 'magic', 'thrived', 'hermione', 'studied', 'spellbook', 'ron', 'struggled', 'quidditch', 'broom', 'grand', 'hall', 'illuminated', 'floating', 'candle', 'sorting', 'hat', 'ready', 'assign', 'firstyear', 'student', 'house', 'dumbledore', 'observed', 'high', 'table', 'smiling', 'young', 'wizard', 'meanwhile', 'dark', 'corridor', 'whisper', 'voldemorts', 'return', 'began', 'spread', 'chamber', 'secret', 'opened']\n",
            "\n",
            "Preprocessed Text 3: ['holmes', 'examined', 'footprint', 'carefully', 'deducing', 'origin', 'watson', 'though', 'skeptical', 'admired', 'detective', 'friend', '’', 'keen', 'sense', 'observation', 'letter', 'arrived', 'b', 'baker', 'street', 'detailing', 'mysterious', 'case', 'missing', 'heirloom', 'detective', 'lit', 'pipe', 'contemplating', 'detail', 'riddle', 'presented', 'lestrade', 'scotland', 'yard', 'officer', 'knocked', 'door', 'urgency', 'requesting', 'holmes', '’', 'expertise', 'solving', 'crime', 'baffled', 'police', 'force', 'game', 'afoot']\n"
          ]
        }
      ]
    },
    {
      "cell_type": "markdown",
      "source": [
        "# Train Word Embedding Models (Word2Vec & FastText)\n",
        "\n",
        "Train Word2Vec and FastText models using the preprocessed text data. The models capture semantic relationships between words based on how they appear in sentences."
      ],
      "metadata": {
        "id": "MTv52QWKuf2t"
      }
    },
    {
      "cell_type": "code",
      "source": [
        "# Train Word Embedding Models\n",
        "print(\"Training Word Embeddings...\")\n",
        "\n",
        "# Word2Vec Model\n",
        "word2vec_model = Word2Vec(sentences=preprocessed_docs, vector_size=100, window=5, min_count=1, workers=4)\n",
        "print(\"Word2Vec Model Training Completed.\")\n",
        "\n",
        "# FastText Model\n",
        "fasttext_model = FastText(sentences=preprocessed_docs, vector_size=100, window=5, min_count=1, workers=4)\n",
        "print(\"FastText Model Training Completed.\")\n",
        "\n",
        "# Save Models for Future Use\n",
        "word2vec_model.save(\"word2vec_fiction.model\")\n",
        "fasttext_model.save(\"fasttext_fiction.model\")\n",
        "\n",
        "print(\"Word2Vec and FastText Models Saved Successfully!\")"
      ],
      "metadata": {
        "colab": {
          "base_uri": "https://localhost:8080/"
        },
        "id": "C6MV898Hovdz",
        "outputId": "9c837d87-b65a-44bd-cd0a-c950e603fba3"
      },
      "execution_count": 6,
      "outputs": [
        {
          "output_type": "stream",
          "name": "stdout",
          "text": [
            "Training Word Embeddings...\n",
            "Word2Vec Model Training Completed.\n",
            "FastText Model Training Completed.\n",
            "Word2Vec and FastText Models Saved Successfully!\n"
          ]
        }
      ]
    },
    {
      "cell_type": "markdown",
      "source": [
        "# Evaluate Cosine Similarity for Word2Vec & FastText\n",
        "\n",
        "Compute cosine similarity scores for selected word pairs across Word2Vec, FastText, and GloVe to measure how well each model captures semantic closeness."
      ],
      "metadata": {
        "id": "zrVedGjauygH"
      }
    },
    {
      "cell_type": "code",
      "source": [
        "# Function to Compute Cosine Similarity\n",
        "def cosine_similarity(word1, word2, model):\n",
        "    try:\n",
        "        similarity = model.wv.similarity(word1, word2)\n",
        "        return round(similarity, 4)\n",
        "    except KeyError:\n",
        "        return \"One or both words not in vocabulary.\"\n",
        "\n",
        "# Example Cosine Similarities\n",
        "word_pairs = [\n",
        "    (\"harry\", \"hermione\"),\n",
        "    (\"holmes\", \"watson\"),\n",
        "    (\"arjuna\", \"krishna\"),\n",
        "    (\"magic\", \"wizard\"),\n",
        "    (\"detective\", \"crime\")\n",
        "]\n",
        "\n",
        "print(\"\\nCosine Similarity - Word2Vec:\")\n",
        "for word1, word2 in word_pairs:\n",
        "    print(f\"{word1} - {word2}: {cosine_similarity(word1, word2, word2vec_model)}\")\n",
        "\n",
        "print(\"\\nCosine Similarity - FastText:\")\n",
        "for word1, word2 in word_pairs:\n",
        "    print(f\"{word1} - {word2}: {cosine_similarity(word1, word2, fasttext_model)}\")"
      ],
      "metadata": {
        "colab": {
          "base_uri": "https://localhost:8080/"
        },
        "id": "4UK4sRZKqeCa",
        "outputId": "7920c802-d1bb-4260-f3fa-9f78d5ffd84d"
      },
      "execution_count": 7,
      "outputs": [
        {
          "output_type": "stream",
          "name": "stdout",
          "text": [
            "\n",
            "Cosine Similarity - Word2Vec:\n",
            "harry - hermione: -0.013799999840557575\n",
            "holmes - watson: -0.05220000073313713\n",
            "arjuna - krishna: 0.016499999910593033\n",
            "magic - wizard: -0.066600002348423\n",
            "detective - crime: 0.015599999576807022\n",
            "\n",
            "Cosine Similarity - FastText:\n",
            "harry - hermione: -0.14970000088214874\n",
            "holmes - watson: -0.08540000021457672\n",
            "arjuna - krishna: -0.015399999916553497\n",
            "magic - wizard: 0.053300000727176666\n",
            "detective - crime: 0.007300000172108412\n"
          ]
        }
      ]
    },
    {
      "cell_type": "markdown",
      "source": [
        "# Perform Word Analogy Tests\n",
        "\n",
        "Evaluate the ability of each model to solve word analogy problems (e.g., \"Holmes is to detective as Harry is to ?\") and compare their conceptual understanding."
      ],
      "metadata": {
        "id": "wTTQgoiau68P"
      }
    },
    {
      "cell_type": "code",
      "source": [
        "# Function to Find Word Analogies\n",
        "def find_analogy(model, word_a, word_b, word_c, topn=1):\n",
        "    try:\n",
        "        result = model.wv.most_similar(positive=[word_b, word_c], negative=[word_a], topn=topn)\n",
        "        return result\n",
        "    except KeyError:\n",
        "        return \"One or more words not in vocabulary.\"\n",
        "\n",
        "# Example Analogies (A is to B as C is to ?)\n",
        "analogy_examples = [\n",
        "    (\"harry\", \"wizard\", \"hermione\"),  # Harry is to wizard as Hermione is to ?\n",
        "    (\"holmes\", \"detective\", \"watson\"),  # Holmes is to detective as Watson is to ?\n",
        "    (\"arjuna\", \"warrior\", \"krishna\")  # Arjuna is to warrior as Krishna is to ?\n",
        "]\n",
        "\n",
        "print(\"\\nWord Analogies - Word2Vec:\")\n",
        "for a, b, c in analogy_examples:\n",
        "    print(f\"{a} is to {b} as {c} is to {find_analogy(word2vec_model, a, b, c)}\")\n",
        "\n",
        "print(\"\\nWord Analogies - FastText:\")\n",
        "for a, b, c in analogy_examples:\n",
        "    print(f\"{a} is to {b} as {c} is to {find_analogy(fasttext_model, a, b, c)}\")\n"
      ],
      "metadata": {
        "colab": {
          "base_uri": "https://localhost:8080/"
        },
        "id": "bMGs0d-9qy7K",
        "outputId": "1459eb88-56e9-4992-d734-a99fe27edc6e"
      },
      "execution_count": 8,
      "outputs": [
        {
          "output_type": "stream",
          "name": "stdout",
          "text": [
            "\n",
            "Word Analogies - Word2Vec:\n",
            "harry is to wizard as hermione is to [('dark', 0.2508096694946289)]\n",
            "holmes is to detective as watson is to [('battle', 0.2588600814342499)]\n",
            "arjuna is to warrior as krishna is to [('filled', 0.2289884388446808)]\n",
            "\n",
            "Word Analogies - FastText:\n",
            "harry is to wizard as hermione is to [('krishna', 0.2355072945356369)]\n",
            "holmes is to detective as watson is to [('detail', 0.2963900566101074)]\n",
            "arjuna is to warrior as krishna is to [('holmes', 0.2451791614294052)]\n"
          ]
        }
      ]
    },
    {
      "cell_type": "markdown",
      "source": [
        "# Visualize Word Clusters Using PCA & t-SNE\n",
        "\n",
        "Use PCA (Principal Component Analysis) and t-SNE (t-Distributed Stochastic Neighbor Embedding) to plot word embeddings in 2D space, showing how words are grouped based on meaning."
      ],
      "metadata": {
        "id": "_5JsogpZvArC"
      }
    },
    {
      "cell_type": "code",
      "source": [
        "# Extract Word Vectors for Visualization\n",
        "words = list(word2vec_model.wv.index_to_key)[:30]  # Get top 30 words for visualization\n",
        "word_vectors = word2vec_model.wv[words]\n",
        "\n",
        "# Dimensionality Reduction Using PCA & t-SNE\n",
        "pca = PCA(n_components=2)\n",
        "tsne = TSNE(n_components=2, perplexity=5, random_state=42)\n",
        "\n",
        "word_vectors_pca = pca.fit_transform(word_vectors)\n",
        "word_vectors_tsne = tsne.fit_transform(word_vectors)\n",
        "\n",
        "# Function to Plot Word Embeddings\n",
        "def plot_embeddings(embeddings, words, title):\n",
        "    plt.figure(figsize=(10, 6))\n",
        "    plt.scatter(embeddings[:, 0], embeddings[:, 1], marker='o')\n",
        "    for i, word in enumerate(words):\n",
        "        plt.annotate(word, xy=(embeddings[i, 0], embeddings[i, 1]), fontsize=12)\n",
        "    plt.title(title)\n",
        "    plt.show()\n",
        "\n",
        "# Plot PCA and t-SNE Visualizations\n",
        "plot_embeddings(word_vectors_pca, words, \"PCA Visualization of Word2Vec Embeddings\")\n",
        "plot_embeddings(word_vectors_tsne, words, \"t-SNE Visualization of Word2Vec Embeddings\")\n"
      ],
      "metadata": {
        "colab": {
          "base_uri": "https://localhost:8080/",
          "height": 1000
        },
        "id": "D9g76LPIq5sa",
        "outputId": "83499f28-526d-4dff-8e68-0b98e00f49c1"
      },
      "execution_count": 9,
      "outputs": [
        {
          "output_type": "display_data",
          "data": {
            "text/plain": [
              "<Figure size 1000x600 with 1 Axes>"
            ],
            "image/png": "[encoded data removed]"
          },
          "metadata": {}
        },
        {
          "output_type": "display_data",
          "data": {
            "text/plain": [
              "<Figure size 1000x600 with 1 Axes>"
            ],
            "image/png": "[encoded data removed]"
          },
          "metadata": {}
        }
      ]
    },
    {
      "cell_type": "markdown",
      "source": [
        "# Compute Clustering Performance (Silhouette Score)\n",
        "\n",
        "pply K-Means clustering to word embeddings and compute the Silhouette Score, which measures how well the models form distinct semantic clusters."
      ],
      "metadata": {
        "id": "YDgwqGTuvIW_"
      }
    },
    {
      "cell_type": "code",
      "source": [
        "from sklearn.metrics import silhouette_score\n",
        "import numpy as np\n",
        "\n",
        "# Function to Compute Average Cosine Similarity\n",
        "def average_similarity(model, word_pairs):\n",
        "    similarities = []\n",
        "    for word1, word2 in word_pairs:\n",
        "        try:\n",
        "            similarities.append(model.wv.similarity(word1, word2))\n",
        "        except KeyError:\n",
        "            continue\n",
        "    return round(np.mean(similarities), 4) if similarities else \"Not Available\"\n",
        "\n",
        "# Compute Average Cosine Similarity for Each Model\n",
        "word_pairs = [(\"harry\", \"hermione\"), (\"holmes\", \"watson\"), (\"arjuna\", \"krishna\"),\n",
        "              (\"magic\", \"wizard\"), (\"detective\", \"crime\")]\n",
        "\n",
        "w2v_similarity = average_similarity(word2vec_model, word_pairs)\n",
        "ft_similarity = average_similarity(fasttext_model, word_pairs)\n",
        "\n",
        "print(f\"\\nAverage Cosine Similarity Score:\")\n",
        "print(f\"Word2Vec: {w2v_similarity}\")\n",
        "print(f\"FastText: {ft_similarity}\")"
      ],
      "metadata": {
        "colab": {
          "base_uri": "https://localhost:8080/"
        },
        "id": "c6egpUnZq_hq",
        "outputId": "8dd1c8c4-8fb3-4d96-9cdf-2b967204e228"
      },
      "execution_count": 10,
      "outputs": [
        {
          "output_type": "stream",
          "name": "stdout",
          "text": [
            "\n",
            "Average Cosine Similarity Score:\n",
            "Word2Vec: -0.020099999383091927\n",
            "FastText: -0.03799999877810478\n"
          ]
        }
      ]
    },
    {
      "cell_type": "code",
      "source": [
        "from sklearn.cluster import KMeans\n",
        "from sklearn.metrics import silhouette_score\n",
        "\n",
        "# Function to Compute Silhouette Score After Clustering\n",
        "def compute_silhouette(model, num_clusters=5):\n",
        "    words = list(model.wv.index_to_key)[:50]  # Get top 50 words\n",
        "    word_vectors = model.wv[words]\n",
        "\n",
        "    # Apply K-Means Clustering\n",
        "    kmeans = KMeans(n_clusters=num_clusters, random_state=42, n_init=10)\n",
        "    cluster_labels = kmeans.fit_predict(word_vectors)\n",
        "\n",
        "    # Compute Silhouette Score\n",
        "    return silhouette_score(word_vectors, cluster_labels)\n",
        "\n",
        "# Compute Silhouette Scores\n",
        "w2v_silhouette = compute_silhouette(word2vec_model)\n",
        "ft_silhouette = compute_silhouette(fasttext_model)\n",
        "\n",
        "print(f\"\\nSilhouette Score for Clustering:\")\n",
        "print(f\"Word2Vec: {w2v_silhouette}\")\n",
        "print(f\"FastText: {ft_silhouette}\")\n"
      ],
      "metadata": {
        "colab": {
          "base_uri": "https://localhost:8080/"
        },
        "id": "_v8WwVBMrStr",
        "outputId": "ccce5db1-62cc-4ce9-ff7e-bfeea9fd058d"
      },
      "execution_count": 12,
      "outputs": [
        {
          "output_type": "stream",
          "name": "stdout",
          "text": [
            "\n",
            "Silhouette Score for Clustering:\n",
            "Word2Vec: 0.006923848297446966\n",
            "FastText: 0.009248239919543266\n"
          ]
        }
      ]
    },
    {
      "cell_type": "markdown",
      "source": [
        "# Download & Load Pretrained GloVe Embeddings\n",
        "\n",
        "Download pretrained GloVe embeddings (Stanford NLP) and load them into a dictionary format for comparison with Word2Vec & FastText."
      ],
      "metadata": {
        "id": "q6BFTZP2sL1H"
      }
    },
    {
      "cell_type": "code",
      "source": [
        "import os\n",
        "import urllib.request\n",
        "import zipfile\n",
        "\n",
        "# Download GloVe embeddings (100D version)\n",
        "glove_url = \"http://nlp.stanford.edu/data/glove.6B.zip\"\n",
        "glove_zip_path = \"glove.6B.zip\"\n",
        "\n",
        "if not os.path.exists(glove_zip_path):\n",
        "    print(\"Downloading GloVe embeddings...\")\n",
        "    urllib.request.urlretrieve(glove_url, glove_zip_path)\n",
        "\n",
        "# Extract GloVe embeddings\n",
        "with zipfile.ZipFile(glove_zip_path, 'r') as zip_ref:\n",
        "    zip_ref.extractall(\"glove_data\")\n",
        "\n",
        "print(\"GloVe embeddings downloaded and extracted.\")\n"
      ],
      "metadata": {
        "colab": {
          "base_uri": "https://localhost:8080/"
        },
        "id": "nWzJ_epMrYfB",
        "outputId": "349cf10f-925e-4ff8-ee7c-68a0672a15f8"
      },
      "execution_count": 13,
      "outputs": [
        {
          "output_type": "stream",
          "name": "stdout",
          "text": [
            "Downloading GloVe embeddings...\n",
            "GloVe embeddings downloaded and extracted.\n"
          ]
        }
      ]
    },
    {
      "cell_type": "code",
      "source": [
        "# Load GloVe embeddings into a dictionary\n",
        "glove_vectors = {}\n",
        "\n",
        "glove_path = \"glove_data/glove.6B.100d.txt\"  # Using 100D version\n",
        "with open(glove_path, \"r\", encoding=\"utf-8\") as f:\n",
        "    for line in f:\n",
        "        values = line.split()\n",
        "        word = values[0]\n",
        "        vector = np.array(values[1:], dtype=np.float32)\n",
        "        glove_vectors[word] = vector\n",
        "\n",
        "print(\"GloVe embeddings loaded successfully!\")"
      ],
      "metadata": {
        "colab": {
          "base_uri": "https://localhost:8080/"
        },
        "id": "sBmPItnXsNkh",
        "outputId": "94ba925d-dd1f-4688-eff6-35be4b211f67"
      },
      "execution_count": 14,
      "outputs": [
        {
          "output_type": "stream",
          "name": "stdout",
          "text": [
            "GloVe embeddings loaded successfully!\n"
          ]
        }
      ]
    },
    {
      "cell_type": "markdown",
      "source": [
        "# Compare Performance of Word2Vec, FastText & GloVe\n",
        "\n",
        "Compare Word2Vec, FastText, and GloVe in terms of similarity scores, analogy performance, clustering quality, and overall interpretability for literary analysis."
      ],
      "metadata": {
        "id": "i5DOSUMwvQ2f"
      }
    },
    {
      "cell_type": "code",
      "source": [
        "from numpy.linalg import norm\n",
        "\n",
        "# Function to Compute Cosine Similarity for GloVe\n",
        "def cosine_similarity_glove(word1, word2):\n",
        "    if word1 in glove_vectors and word2 in glove_vectors:\n",
        "        vec1 = glove_vectors[word1]\n",
        "        vec2 = glove_vectors[word2]\n",
        "        similarity = np.dot(vec1, vec2) / (norm(vec1) * norm(vec2))\n",
        "        return round(similarity, 4)\n",
        "    else:\n",
        "        return \"One or both words not in GloVe vocabulary.\"\n",
        "\n",
        "# Example Cosine Similarities\n",
        "print(\"\\nCosine Similarity - GloVe:\")\n",
        "for word1, word2 in word_pairs:\n",
        "    print(f\"{word1} - {word2}: {cosine_similarity_glove(word1, word2)}\")\n"
      ],
      "metadata": {
        "colab": {
          "base_uri": "https://localhost:8080/"
        },
        "id": "L82rEmBws_za",
        "outputId": "0810f0c9-8ee5-4c2d-d056-456c4d58248b"
      },
      "execution_count": 15,
      "outputs": [
        {
          "output_type": "stream",
          "name": "stdout",
          "text": [
            "\n",
            "Cosine Similarity - GloVe:\n",
            "harry - hermione: 0.35850000381469727\n",
            "holmes - watson: 0.578499972820282\n",
            "arjuna - krishna: 0.46470001339912415\n",
            "magic - wizard: 0.5823000073432922\n",
            "detective - crime: 0.5697000026702881\n"
          ]
        }
      ]
    },
    {
      "cell_type": "code",
      "source": [
        "# Function to Find Word Analogies for GloVe\n",
        "def find_analogy_glove(word_a, word_b, word_c, topn=1):\n",
        "    if word_a in glove_vectors and word_b in glove_vectors and word_c in glove_vectors:\n",
        "        analogy_vector = glove_vectors[word_b] - glove_vectors[word_a] + glove_vectors[word_c]\n",
        "\n",
        "        # Compute similarities with all words\n",
        "        similarities = {word: np.dot(analogy_vector, vec) / (norm(analogy_vector) * norm(vec))\n",
        "                        for word, vec in glove_vectors.items()}\n",
        "\n",
        "        # Sort by similarity and return the most similar word\n",
        "        sorted_similarities = sorted(similarities.items(), key=lambda x: x[1], reverse=True)\n",
        "\n",
        "        return sorted_similarities[:topn]\n",
        "\n",
        "    return \"One or more words not in GloVe vocabulary.\"\n",
        "\n",
        "print(\"\\nWord Analogies - GloVe:\")\n",
        "for a, b, c in analogy_examples:\n",
        "    print(f\"{a} is to {b} as {c} is to {find_analogy_glove(a, b, c)}\")\n"
      ],
      "metadata": {
        "colab": {
          "base_uri": "https://localhost:8080/"
        },
        "id": "Um8_pX5PtEUK",
        "outputId": "1cc1390b-1755-40fc-8997-a3a9ad3bf587"
      },
      "execution_count": 17,
      "outputs": [
        {
          "output_type": "stream",
          "name": "stdout",
          "text": [
            "\n",
            "Word Analogies - GloVe:\n",
            "harry is to wizard as hermione is to [('hermione', 0.71411175)]\n",
            "holmes is to detective as watson is to [('detective', 0.78428346)]\n",
            "arjuna is to warrior as krishna is to [('krishna', 0.6779042)]\n"
          ]
        }
      ]
    },
    {
      "cell_type": "code",
      "source": [
        "# Function to Compute Average Cosine Similarity for GloVe\n",
        "def average_similarity_glove(glove_dict, word_pairs):\n",
        "    similarities = []\n",
        "    for word1, word2 in word_pairs:\n",
        "        if word1 in glove_dict and word2 in glove_dict:\n",
        "            vec1 = glove_dict[word1]\n",
        "            vec2 = glove_dict[word2]\n",
        "            similarity = np.dot(vec1, vec2) / (norm(vec1) * norm(vec2))\n",
        "            similarities.append(similarity)\n",
        "\n",
        "    return round(np.mean(similarities), 4) if similarities else \"Not Available\"\n",
        "\n",
        "# Compute Overall Average Cosine Similarity for GloVe\n",
        "glove_similarity = average_similarity_glove(glove_vectors, word_pairs)\n",
        "\n",
        "print(\"\\nFinal Comparison - Average Cosine Similarity Score:\")\n",
        "print(f\"Word2Vec: {w2v_similarity}\")\n",
        "print(f\"FastText: {ft_similarity}\")\n",
        "print(f\"GloVe: {glove_similarity}\")"
      ],
      "metadata": {
        "colab": {
          "base_uri": "https://localhost:8080/"
        },
        "id": "Bxuc1kNGtHAJ",
        "outputId": "49ec255e-fcc6-4358-ac8f-f2d1a83751ee"
      },
      "execution_count": 20,
      "outputs": [
        {
          "output_type": "stream",
          "name": "stdout",
          "text": [
            "\n",
            "Final Comparison - Average Cosine Similarity Score:\n",
            "Word2Vec: -0.020099999383091927\n",
            "FastText: -0.03799999877810478\n",
            "GloVe: 0.510699987411499\n"
          ]
        }
      ]
    },
    {
      "cell_type": "code",
      "source": [],
      "metadata": {
        "id": "q1YjO-zQtQ3r"
      },
      "execution_count": null,
      "outputs": []
    }
  ]
}